{
  "cells": [
    {
      "cell_type": "markdown",
      "metadata": {
        "id": "view-in-github",
        "colab_type": "text"
      },
      "source": [
        "<a href=\"https://colab.research.google.com/github/MarioAuditore/TDA-for-Travelling-Salesman/blob/main/train_tsp_pipeline.ipynb\" target=\"_parent\"><img src=\"https://colab.research.google.com/assets/colab-badge.svg\" alt=\"Open In Colab\"/></a>"
      ]
    },
    {
      "cell_type": "markdown",
      "metadata": {
        "id": "IDiSVtV4AtV8"
      },
      "source": [
        "# TDA-for-Travelling-Salesman\n",
        "\n",
        "Transformer based on the work of Xavier Bresson, Thomas Laurent, Feb 2021<br>\n",
        "\n",
        "Arxiv : https://arxiv.org/pdf/2103.03012.pdf<br>\n",
        "Talk : https://ipam.wistia.com/medias/0jrweluovs<br>\n",
        "Slides : https://t.co/ySxGiKtQL5<br>\n",
        "\n",
        "This code trains the transformer network by reinforcement learning.<br>\n",
        "Use the beam search code to test the trained network.\n"
      ]
    },
    {
      "cell_type": "code",
      "execution_count": 1,
      "metadata": {
        "colab": {
          "base_uri": "https://localhost:8080/"
        },
        "id": "vpz8V14yEkU9",
        "outputId": "241f4fc5-fcc8-4b2b-cc20-3a55295f1a14"
      },
      "outputs": [
        {
          "output_type": "stream",
          "name": "stdout",
          "text": [
            "Cloning into 'TDA-for-Travelling-Salesman'...\n",
            "remote: Enumerating objects: 144, done.\u001b[K\n",
            "remote: Counting objects: 100% (72/72), done.\u001b[K\n",
            "remote: Compressing objects: 100% (71/71), done.\u001b[K\n",
            "remote: Total 144 (delta 35), reused 0 (delta 0), pack-reused 72\u001b[K\n",
            "Receiving objects: 100% (144/144), 105.34 MiB | 15.26 MiB/s, done.\n",
            "Resolving deltas: 100% (48/48), done.\n",
            "Updating files: 100% (38/38), done.\n",
            "Collecting pyconcorde@ git+https://github.com/jvkersch/pyconcorde\n",
            "  Cloning https://github.com/jvkersch/pyconcorde to /tmp/pip-install-i58r_zo1/pyconcorde_dcc0d14cddcc4bbc97218295c562c691\n",
            "  Running command git clone --filter=blob:none --quiet https://github.com/jvkersch/pyconcorde /tmp/pip-install-i58r_zo1/pyconcorde_dcc0d14cddcc4bbc97218295c562c691\n",
            "  Resolved https://github.com/jvkersch/pyconcorde to commit 8a6b193b79ebdf8f07e0b0635722b3b4edbc1560\n",
            "  Installing build dependencies ... \u001b[?25l\u001b[?25hdone\n",
            "  Getting requirements to build wheel ... \u001b[?25l\u001b[?25hdone\n",
            "  Installing backend dependencies ... \u001b[?25l\u001b[?25hdone\n",
            "  Preparing metadata (pyproject.toml) ... \u001b[?25l\u001b[?25hdone\n",
            "Requirement already satisfied: cython>=0.22.0 in /usr/local/lib/python3.10/dist-packages (from pyconcorde@ git+https://github.com/jvkersch/pyconcorde) (3.0.9)\n",
            "Requirement already satisfied: numpy>=1.21.0 in /usr/local/lib/python3.10/dist-packages (from pyconcorde@ git+https://github.com/jvkersch/pyconcorde) (1.25.2)\n",
            "Collecting tsplib95 (from pyconcorde@ git+https://github.com/jvkersch/pyconcorde)\n",
            "  Downloading tsplib95-0.7.1-py2.py3-none-any.whl (25 kB)\n",
            "Requirement already satisfied: Click>=6.0 in /usr/local/lib/python3.10/dist-packages (from tsplib95->pyconcorde@ git+https://github.com/jvkersch/pyconcorde) (8.1.7)\n",
            "Collecting Deprecated~=1.2.9 (from tsplib95->pyconcorde@ git+https://github.com/jvkersch/pyconcorde)\n",
            "  Downloading Deprecated-1.2.14-py2.py3-none-any.whl (9.6 kB)\n",
            "Collecting networkx~=2.1 (from tsplib95->pyconcorde@ git+https://github.com/jvkersch/pyconcorde)\n",
            "  Downloading networkx-2.8.8-py3-none-any.whl (2.0 MB)\n",
            "\u001b[2K     \u001b[90m━━━━━━━━━━━━━━━━━━━━━━━━━━━━━━━━━━━━━━━━\u001b[0m \u001b[32m2.0/2.0 MB\u001b[0m \u001b[31m15.5 MB/s\u001b[0m eta \u001b[36m0:00:00\u001b[0m\n",
            "\u001b[?25hCollecting tabulate~=0.8.7 (from tsplib95->pyconcorde@ git+https://github.com/jvkersch/pyconcorde)\n",
            "  Downloading tabulate-0.8.10-py3-none-any.whl (29 kB)\n",
            "Requirement already satisfied: wrapt<2,>=1.10 in /usr/local/lib/python3.10/dist-packages (from Deprecated~=1.2.9->tsplib95->pyconcorde@ git+https://github.com/jvkersch/pyconcorde) (1.14.1)\n",
            "Building wheels for collected packages: pyconcorde\n",
            "  Building wheel for pyconcorde (pyproject.toml) ... \u001b[?25l\u001b[?25hdone\n",
            "  Created wheel for pyconcorde: filename=pyconcorde-0.1.0-cp310-cp310-linux_x86_64.whl size=2576442 sha256=92df49a91cfacd0eb5ba5bbf4b450c0cdd901605a732a3400e18a3e32f62bcb5\n",
            "  Stored in directory: /tmp/pip-ephem-wheel-cache-clodagao/wheels/be/9f/eb/e4f95e06e62f057a045679e4940e536d1b251d1ab4859c6dcc\n",
            "Successfully built pyconcorde\n",
            "Installing collected packages: tabulate, networkx, Deprecated, tsplib95, pyconcorde\n",
            "  Attempting uninstall: tabulate\n",
            "    Found existing installation: tabulate 0.9.0\n",
            "    Uninstalling tabulate-0.9.0:\n",
            "      Successfully uninstalled tabulate-0.9.0\n",
            "  Attempting uninstall: networkx\n",
            "    Found existing installation: networkx 3.2.1\n",
            "    Uninstalling networkx-3.2.1:\n",
            "      Successfully uninstalled networkx-3.2.1\n",
            "\u001b[31mERROR: pip's dependency resolver does not currently take into account all the packages that are installed. This behaviour is the source of the following dependency conflicts.\n",
            "torch 2.2.1+cu121 requires nvidia-cublas-cu12==12.1.3.1; platform_system == \"Linux\" and platform_machine == \"x86_64\", which is not installed.\n",
            "torch 2.2.1+cu121 requires nvidia-cuda-cupti-cu12==12.1.105; platform_system == \"Linux\" and platform_machine == \"x86_64\", which is not installed.\n",
            "torch 2.2.1+cu121 requires nvidia-cuda-nvrtc-cu12==12.1.105; platform_system == \"Linux\" and platform_machine == \"x86_64\", which is not installed.\n",
            "torch 2.2.1+cu121 requires nvidia-cuda-runtime-cu12==12.1.105; platform_system == \"Linux\" and platform_machine == \"x86_64\", which is not installed.\n",
            "torch 2.2.1+cu121 requires nvidia-cudnn-cu12==8.9.2.26; platform_system == \"Linux\" and platform_machine == \"x86_64\", which is not installed.\n",
            "torch 2.2.1+cu121 requires nvidia-cufft-cu12==11.0.2.54; platform_system == \"Linux\" and platform_machine == \"x86_64\", which is not installed.\n",
            "torch 2.2.1+cu121 requires nvidia-curand-cu12==10.3.2.106; platform_system == \"Linux\" and platform_machine == \"x86_64\", which is not installed.\n",
            "torch 2.2.1+cu121 requires nvidia-cusolver-cu12==11.4.5.107; platform_system == \"Linux\" and platform_machine == \"x86_64\", which is not installed.\n",
            "torch 2.2.1+cu121 requires nvidia-cusparse-cu12==12.1.0.106; platform_system == \"Linux\" and platform_machine == \"x86_64\", which is not installed.\n",
            "torch 2.2.1+cu121 requires nvidia-nccl-cu12==2.19.3; platform_system == \"Linux\" and platform_machine == \"x86_64\", which is not installed.\n",
            "torch 2.2.1+cu121 requires nvidia-nvtx-cu12==12.1.105; platform_system == \"Linux\" and platform_machine == \"x86_64\", which is not installed.\n",
            "bigframes 0.25.0 requires tabulate>=0.9, but you have tabulate 0.8.10 which is incompatible.\u001b[0m\u001b[31m\n",
            "\u001b[0mSuccessfully installed Deprecated-1.2.14 networkx-2.8.8 pyconcorde-0.1.0 tabulate-0.8.10 tsplib95-0.7.1\n",
            "Collecting giotto-ph\n",
            "  Downloading giotto_ph-0.2.2-cp310-cp310-manylinux_2_17_x86_64.manylinux2014_x86_64.whl (526 kB)\n",
            "\u001b[2K     \u001b[90m━━━━━━━━━━━━━━━━━━━━━━━━━━━━━━━━━━━━━━━━\u001b[0m \u001b[32m526.4/526.4 kB\u001b[0m \u001b[31m11.9 MB/s\u001b[0m eta \u001b[36m0:00:00\u001b[0m\n",
            "\u001b[?25hRequirement already satisfied: numpy>=1.19.1 in /usr/local/lib/python3.10/dist-packages (from giotto-ph) (1.25.2)\n",
            "Requirement already satisfied: scipy>=1.5.0 in /usr/local/lib/python3.10/dist-packages (from giotto-ph) (1.11.4)\n",
            "Requirement already satisfied: scikit-learn>=0.23.1 in /usr/local/lib/python3.10/dist-packages (from giotto-ph) (1.2.2)\n",
            "Requirement already satisfied: joblib>=1.1.1 in /usr/local/lib/python3.10/dist-packages (from scikit-learn>=0.23.1->giotto-ph) (1.3.2)\n",
            "Requirement already satisfied: threadpoolctl>=2.0.0 in /usr/local/lib/python3.10/dist-packages (from scikit-learn>=0.23.1->giotto-ph) (3.3.0)\n",
            "Installing collected packages: giotto-ph\n",
            "Successfully installed giotto-ph-0.2.2\n"
          ]
        }
      ],
      "source": [
        "!git clone https://github.com/MarioAuditore/TDA-for-Travelling-Salesman.git\n",
        "\n",
        "import os\n",
        "os.chdir('/content/TDA-for-Travelling-Salesman')\n",
        "\n",
        "!pip install 'pyconcorde @ git+https://github.com/jvkersch/pyconcorde'\n",
        "\n",
        "!pip install giotto-ph"
      ]
    },
    {
      "cell_type": "code",
      "execution_count": 16,
      "metadata": {
        "colab": {
          "base_uri": "https://localhost:8080/"
        },
        "id": "hGW4PaR3AtWC",
        "outputId": "8c127fb6-c5da-471d-c566-6ff68b91931c"
      },
      "outputs": [
        {
          "output_type": "execute_result",
          "data": {
            "text/plain": [
              "<torch._C.Generator at 0x7feadfb37b30>"
            ]
          },
          "metadata": {},
          "execution_count": 16
        }
      ],
      "source": [
        "# ================\n",
        "# Libs\n",
        "# ================\n",
        "\n",
        "import torch\n",
        "import torch.nn as nn\n",
        "from tqdm import tqdm\n",
        "import gph\n",
        "\n",
        "# Models\n",
        "from tsp_transformer.model import TSP_net, compute_tour_length\n",
        "\n",
        "\n",
        "import time\n",
        "import argparse\n",
        "import os\n",
        "import datetime\n",
        "\n",
        "\n",
        "# visualization\n",
        "%matplotlib inline\n",
        "# from IPython.display import set_matplotlib_formats, clear_output\n",
        "# set_matplotlib_formats('png2x','pdf')\n",
        "import matplotlib.pyplot as plt\n",
        "import numpy as np\n",
        "# import pandas as pd\n",
        "\n",
        "\n",
        "import networkx as nx\n",
        "from scipy.spatial.distance import pdist, squareform\n",
        "from concorde.tsp import TSPSolver # !pip install -e pyconcorde\n",
        "\n",
        "\n",
        "import warnings\n",
        "warnings.filterwarnings(\"ignore\", category=UserWarning)\n",
        "\n",
        "np.random.seed(42)\n",
        "torch.manual_seed(42)"
      ]
    },
    {
      "cell_type": "code",
      "execution_count": 3,
      "metadata": {
        "colab": {
          "base_uri": "https://localhost:8080/"
        },
        "id": "LPdggSO0AtWC",
        "outputId": "48e8edc5-e041-4b80-8382-4a0b9fcb2efa"
      },
      "outputs": [
        {
          "output_type": "stream",
          "name": "stdout",
          "text": [
            "GPU name: Tesla T4, gpu_id: 0\n",
            "cuda\n"
          ]
        }
      ],
      "source": [
        "###################\n",
        "# Hardware : CPU / GPU(s)\n",
        "###################\n",
        "\n",
        "if torch.backends.mps.is_available():\n",
        "    gpu_id = '0'\n",
        "    device = torch.device(\"mps\")\n",
        "\n",
        "elif torch.cuda.is_available():\n",
        "    gpu_id = '0' # select a single GPU\n",
        "    # gpu_id = '2,3' # select multiple GPUs\n",
        "    os.environ[\"CUDA_VISIBLE_DEVICES\"] = str(gpu_id)\n",
        "    device = torch.device(\"cuda\")\n",
        "    print('GPU name: {:s}, gpu_id: {:s}'.format(torch.cuda.get_device_name(0),gpu_id))\n",
        "\n",
        "else:\n",
        "    device = torch.device(\"cpu\")\n",
        "    gpu_id = -1 # select CPU\n",
        "\n",
        "\n",
        "print(device)"
      ]
    },
    {
      "cell_type": "code",
      "execution_count": 4,
      "metadata": {
        "colab": {
          "base_uri": "https://localhost:8080/"
        },
        "id": "PFvE_qMOAtWD",
        "outputId": "edb4a4b2-fa0d-4fca-b406-a83ef32d7aaf"
      },
      "outputs": [
        {
          "output_type": "stream",
          "name": "stdout",
          "text": [
            "{'gpu_id': '0', 'nb_nodes': 10, 'dim_emb': 128, 'dim_ff': 512, 'dim_nodes': 2, 'dim_model_input': 8, 'nb_layers_encoder': 6, 'nb_layers_decoder': 2, 'nb_heads': 8, 'nb_epochs': 20, 'batch_size': 128, 'nb_batch_per_epoch': 250, 'nb_batch_eval': 100, 'lr': 0.0001, 'tol': 0.001, 'batchnorm': True, 'max_len_PE': 1000}\n"
          ]
        }
      ],
      "source": [
        "# ================\n",
        "# Hyper-parameters\n",
        "# ================\n",
        "\n",
        "class DotDict(dict):\n",
        "    def __init__(self, **kwds):\n",
        "        self.update(kwds)\n",
        "        self.__dict__ = self\n",
        "\n",
        "args = DotDict()\n",
        "args.gpu_id = gpu_id\n",
        "\n",
        "# TSP problem number of nodes\n",
        "args.nb_nodes = 10 # TSP10\n",
        "# args.nb_nodes = 20 # TSP20\n",
        "\n",
        "# Transformer parameters\n",
        "args.dim_emb = 128 # dimension of embeddings in transformer\n",
        "args.dim_ff = 512 # dimension of feed forward layers\n",
        "args.dim_nodes = 2\n",
        "args.dim_model_input = 8 # dimension of input features\n",
        "args.nb_layers_encoder = 6\n",
        "args.nb_layers_decoder = 2\n",
        "args.nb_heads = 8\n",
        "\n",
        "#\n",
        "args.nb_epochs = 20 # number of epochs\n",
        "args.batch_size = 128 # batch size\n",
        "args.nb_batch_per_epoch = 250 # number of batches to generate on each epoch for training\n",
        "args.nb_batch_eval = 100 # number of batches to generate on each epoch for evaluation\n",
        "args.lr = 1e-4 # optimiser lr\n",
        "args.tol = 1e-3 # model should perform better w.r.t tolerance to be updated\n",
        "args.batchnorm = True  # if batchnorm=True  than batch norm is used\n",
        "# args.batchnorm = False # if batchnorm=False than layer norm is used\n",
        "args.max_len_PE = 1000\n",
        "\n",
        "print(args)"
      ]
    },
    {
      "cell_type": "markdown",
      "metadata": {
        "id": "vmojlcwlAtWD"
      },
      "source": [
        "# Training\n",
        "## Setup"
      ]
    },
    {
      "cell_type": "code",
      "execution_count": 5,
      "metadata": {
        "colab": {
          "base_uri": "https://localhost:8080/"
        },
        "id": "A2JoNUSvAtWE",
        "outputId": "17208b82-94af-494c-a895-c950dfe0f696"
      },
      "outputs": [
        {
          "output_type": "stream",
          "name": "stdout",
          "text": [
            "{'gpu_id': '0', 'nb_nodes': 10, 'dim_emb': 128, 'dim_ff': 512, 'dim_nodes': 2, 'dim_model_input': 8, 'nb_layers_encoder': 6, 'nb_layers_decoder': 2, 'nb_heads': 8, 'nb_epochs': 20, 'batch_size': 128, 'nb_batch_per_epoch': 250, 'nb_batch_eval': 100, 'lr': 0.0001, 'tol': 0.001, 'batchnorm': True, 'max_len_PE': 1000}\n",
            "\n"
          ]
        }
      ],
      "source": [
        "###################\n",
        "# Instantiate a training network and a baseline network\n",
        "###################\n",
        "\n",
        "try:\n",
        "    del model_train # remove existing model\n",
        "    del model_baseline # remove existing model\n",
        "except:\n",
        "    pass\n",
        "\n",
        "model_train = TSP_net(args.dim_model_input,\n",
        "                      args.dim_emb,\n",
        "                      args.dim_ff,\n",
        "                      args.nb_layers_encoder,\n",
        "                      args.nb_layers_decoder,\n",
        "                      args.nb_heads,\n",
        "                      args.max_len_PE,\n",
        "                      batchnorm=args.batchnorm)\n",
        "\n",
        "model_baseline = TSP_net(args.dim_model_input,\n",
        "                         args.dim_emb,\n",
        "                         args.dim_ff,\n",
        "                         args.nb_layers_encoder,\n",
        "                         args.nb_layers_decoder,\n",
        "                         args.nb_heads,\n",
        "                         args.max_len_PE,\n",
        "                         batchnorm=args.batchnorm)\n",
        "\n",
        "if torch.cuda.device_count() > 1:\n",
        "    print(torch.cuda.device_count() + \" cuda devices found, doing parallel training.\")\n",
        "    model_train = nn.DataParallel(model_train)\n",
        "    model_baseline = nn.DataParallel(model_baseline)\n",
        "\n",
        "optimizer = torch.optim.Adam(model_train.parameters(), lr = args.lr)\n",
        "\n",
        "model_train = model_train.to(device)\n",
        "model_baseline = model_baseline.to(device)\n",
        "model_baseline.eval()\n",
        "\n",
        "print(args); print('')\n",
        "\n",
        "# Logs\n",
        "if not  os.path.exists(\"logs\"):\n",
        "    os.system(\"mkdir logs\")\n",
        "time_stamp=datetime.datetime.now().strftime(\"%y-%m-%d--%H-%M-%S\")\n",
        "file_name = 'logs'+'/'+time_stamp + \"-n{}\".format(args.nb_nodes) + \"-gpu{}\".format(args.gpu_id) + \".txt\"\n",
        "file = open(file_name,\"w\",1)\n",
        "file.write(time_stamp+'\\n\\n')\n",
        "for arg in vars(args):\n",
        "    file.write(arg)\n",
        "    hyper_param_val=\"={}\".format(getattr(args, arg))\n",
        "    file.write(hyper_param_val)\n",
        "    file.write('\\n')\n",
        "file.write('\\n\\n')\n",
        "plot_performance_train = []\n",
        "plot_performance_baseline = []\n",
        "all_strings = []\n",
        "epoch_ckpt = 0\n",
        "tot_time_ckpt = 0\n",
        "\n",
        "\n",
        "# # Uncomment these lines to re-start training with saved checkpoint\n",
        "# ====================================================================\n",
        "# checkpoint_file = \"checkpoint/checkpoint_21-03-01--17-25-00-n50-gpu0.pkl\"\n",
        "# checkpoint = torch.load(checkpoint_file, map_location=device)\n",
        "# epoch_ckpt = checkpoint['epoch'] + 1\n",
        "# tot_time_ckpt = checkpoint['tot_time']\n",
        "# plot_performance_train = checkpoint['plot_performance_train']\n",
        "# plot_performance_baseline = checkpoint['plot_performance_baseline']\n",
        "# model_baseline.load_state_dict(checkpoint['model_baseline'])\n",
        "# model_train.load_state_dict(checkpoint['model_train'])\n",
        "# optimizer.load_state_dict(checkpoint['optimizer'])\n",
        "# print('Re-start training with saved checkpoint file={:s}\\n  Checkpoint at epoch= {:d} and time={:.3f}min\\n'.format(checkpoint_file,epoch_ckpt-1,tot_time_ckpt/60))\n",
        "# del checkpoint\n",
        "# ====================================================================\n",
        "\n"
      ]
    },
    {
      "cell_type": "markdown",
      "metadata": {
        "id": "N3MLpLoMAtWE"
      },
      "source": [
        "## Test\n",
        "### Best solution"
      ]
    },
    {
      "cell_type": "code",
      "execution_count": 6,
      "metadata": {
        "id": "oX41tczIAtWE"
      },
      "outputs": [],
      "source": [
        "from joblib import Parallel, delayed\n",
        "\n",
        "create_checkpoint = False\n",
        "test_size = 1000\n",
        "n_nodes = args.nb_nodes\n",
        "\n",
        "if create_checkpoint:\n",
        "    x = torch.rand(test_size, n_nodes, args.dim_nodes, device='cpu')\n",
        "\n",
        "    def best_path(points):\n",
        "        solution = TSPSolver.from_data(points[:, 0], points[:, 1], norm='GEO').solve(verbose=False)\n",
        "        return compute_tour_length(points[None, :], solution.tour[None, :]).to('cpu')\n",
        "\n",
        "    lengths = Parallel(n_jobs=-1)(delayed(best_path)(points) for points in x)\n",
        "\n",
        "    best_length_mean = torch.tensor(lengths).mean()\n",
        "\n",
        "    data_dir = os.path.join(\"data\")\n",
        "    torch.save({ 'x': x, 'mean': best_length_mean}, '{}.pkl'.format(data_dir + f\"/{test_size}tsp{n_nodes}\"))"
      ]
    },
    {
      "cell_type": "markdown",
      "metadata": {
        "id": "5NY37m7sAtWE"
      },
      "source": [
        "### TSP tasks as validation checkpoints"
      ]
    },
    {
      "cell_type": "code",
      "execution_count": 7,
      "metadata": {
        "colab": {
          "base_uri": "https://localhost:8080/"
        },
        "id": "2oGjtQZ9AtWE",
        "outputId": "d968164a-4f28-4abf-c1fa-6c6d7d20ce97"
      },
      "outputs": [
        {
          "output_type": "stream",
          "name": "stdout",
          "text": [
            "nb of nodes : 10 | mean length: 2.882951259613037\n"
          ]
        }
      ],
      "source": [
        "###################\n",
        "# Small test set for quick algorithm comparison\n",
        "# Note : this can be removed\n",
        "###################\n",
        "\n",
        "checkpoint = None\n",
        "\n",
        "if args.nb_nodes==10 : checkpoint = torch.load(\"data/1000tsp10.pkl\")\n",
        "if args.nb_nodes==20 : checkpoint = torch.load(\"data/1000tsp20.pkl\")\n",
        "\n",
        "if checkpoint is not None:\n",
        "    x_test_tsp = checkpoint['x']\n",
        "    x_test_len = checkpoint['mean']\n",
        "    n = x_test_tsp.size(1)\n",
        "    print(f'nb of nodes : {n} | mean length: {x_test_len}')\n",
        "else:\n",
        "    x_test_tsp = torch.rand(test_size, args.nb_nodes, args.dim_nodes, device='cpu')\n",
        "    x_test_len = 1e-7\n",
        "    n = x_test_tsp.size(1)\n",
        "    print('nb of nodes :',n)"
      ]
    },
    {
      "cell_type": "markdown",
      "metadata": {
        "id": "agreLCTXEp4d"
      },
      "source": [
        "## TDA"
      ]
    },
    {
      "cell_type": "code",
      "execution_count": 8,
      "metadata": {
        "id": "NZ_gaXQmg7yB"
      },
      "outputs": [],
      "source": [
        "def calculate_homology(points, max_columns=args.dim_model_input):\n",
        "\n",
        "    output = gph.ripser_parallel(points.cpu().numpy() if isinstance(points, torch.Tensor) else points, return_generators=True)\n",
        "\n",
        "    # extract data\n",
        "    gens_1 = output['gens'][1]  # 1-homology bars\n",
        "    dgms_1 = output['dgms'][1]  # their critical edges\n",
        "\n",
        "    num_points = points.shape[0]\n",
        "    features = np.asarray(points.cpu().numpy() if isinstance(points, torch.Tensor) else points)\n",
        "\n",
        "    # pair generators with their barcodes\n",
        "    paired_gens_barcodes = [(gen, dgms_1[i][1] - dgms_1[i][0]) for i, gen in enumerate(gens_1[0])]\n",
        "\n",
        "    # sort by barcode length in decreasing order\n",
        "    sorted_gens_barcodes = sorted(paired_gens_barcodes, key=lambda x: x[1], reverse=True)\n",
        "\n",
        "    # add the given number of features\n",
        "    max_generators = (max_columns - features.shape[1]) // 2\n",
        "    for gen, barcode in sorted_gens_barcodes[:max_generators]:\n",
        "        H1_birth, H1_death = np.zeros(num_points), np.zeros(num_points)\n",
        "        birth_vertices, death_vertices = gen[:2], gen[2:]\n",
        "        H1_birth[birth_vertices] = barcode\n",
        "        H1_death[death_vertices] = barcode\n",
        "\n",
        "        features = np.hstack([features, H1_birth[:, None], H1_death[:, None]])\n",
        "\n",
        "    # pad zeros\n",
        "    current_columns = features.shape[1]\n",
        "    if current_columns < max_columns:\n",
        "        zero_columns_needed = max_columns - current_columns\n",
        "        features = np.hstack([features, np.zeros((num_points, zero_columns_needed))])\n",
        "\n",
        "    return features"
      ]
    },
    {
      "cell_type": "markdown",
      "metadata": {
        "id": "3j_vGgpMAtWF"
      },
      "source": [
        "## Training loop"
      ]
    },
    {
      "cell_type": "code",
      "execution_count": 9,
      "metadata": {
        "colab": {
          "base_uri": "https://localhost:8080/"
        },
        "id": "zc7B1ys8AtWF",
        "outputId": "3a7c8454-6161-407e-f8ed-0c4a339eb6e0"
      },
      "outputs": [
        {
          "output_type": "stream",
          "name": "stderr",
          "text": [
            "  5%|▌         | 1/20 [02:11<41:37, 131.43s/it]"
          ]
        },
        {
          "output_type": "stream",
          "name": "stdout",
          "text": [
            "Epoch: 0, epoch time: 1.789min, tot time: 0.001day, L_train: 2.968, L_base: 3.868, L_test: 2.988, gap_train(%): 3.635, update: True\n"
          ]
        },
        {
          "output_type": "stream",
          "name": "stderr",
          "text": [
            "\r 10%|█         | 2/20 [03:52<34:05, 113.66s/it]"
          ]
        },
        {
          "output_type": "stream",
          "name": "stdout",
          "text": [
            "Epoch: 1, epoch time: 1.186min, tot time: 0.002day, L_train: 2.912, L_base: 2.969, L_test: 2.928, gap_train(%): 1.579, update: True\n"
          ]
        },
        {
          "output_type": "stream",
          "name": "stderr",
          "text": [
            "\r 15%|█▌        | 3/20 [05:31<30:18, 106.97s/it]"
          ]
        },
        {
          "output_type": "stream",
          "name": "stdout",
          "text": [
            "Epoch: 2, epoch time: 1.249min, tot time: 0.004day, L_train: 2.917, L_base: 2.919, L_test: 2.925, gap_train(%): 1.475, update: True\n"
          ]
        },
        {
          "output_type": "stream",
          "name": "stderr",
          "text": [
            "\r 20%|██        | 4/20 [07:06<27:13, 102.12s/it]"
          ]
        },
        {
          "output_type": "stream",
          "name": "stdout",
          "text": [
            "Epoch: 3, epoch time: 1.176min, tot time: 0.005day, L_train: 2.906, L_base: 2.914, L_test: 2.915, gap_train(%): 1.109, update: True\n"
          ]
        },
        {
          "output_type": "stream",
          "name": "stderr",
          "text": [
            "\r 25%|██▌       | 5/20 [08:42<25:00, 100.03s/it]"
          ]
        },
        {
          "output_type": "stream",
          "name": "stdout",
          "text": [
            "Epoch: 4, epoch time: 1.184min, tot time: 0.006day, L_train: 2.907, L_base: 2.906, L_test: 2.915, gap_train(%): 1.109, update: False\n"
          ]
        },
        {
          "output_type": "stream",
          "name": "stderr",
          "text": [
            "\r 30%|███       | 6/20 [10:25<23:32, 100.88s/it]"
          ]
        },
        {
          "output_type": "stream",
          "name": "stdout",
          "text": [
            "Epoch: 5, epoch time: 1.222min, tot time: 0.007day, L_train: 2.904, L_base: 2.906, L_test: 2.915, gap_train(%): 1.116, update: True\n"
          ]
        },
        {
          "output_type": "stream",
          "name": "stderr",
          "text": [
            "\r 35%|███▌      | 7/20 [12:25<23:13, 107.19s/it]"
          ]
        },
        {
          "output_type": "stream",
          "name": "stdout",
          "text": [
            "Epoch: 6, epoch time: 1.474min, tot time: 0.008day, L_train: 2.896, L_base: 2.899, L_test: 2.909, gap_train(%): 0.894, update: True\n"
          ]
        },
        {
          "output_type": "stream",
          "name": "stderr",
          "text": [
            "\r 40%|████      | 8/20 [14:27<22:22, 111.85s/it]"
          ]
        },
        {
          "output_type": "stream",
          "name": "stdout",
          "text": [
            "Epoch: 7, epoch time: 1.521min, tot time: 0.010day, L_train: 2.902, L_base: 2.896, L_test: 2.909, gap_train(%): 0.894, update: False\n"
          ]
        },
        {
          "output_type": "stream",
          "name": "stderr",
          "text": [
            "\r 45%|████▌     | 9/20 [16:27<21:01, 114.64s/it]"
          ]
        },
        {
          "output_type": "stream",
          "name": "stdout",
          "text": [
            "Epoch: 8, epoch time: 1.496min, tot time: 0.011day, L_train: 2.892, L_base: 2.892, L_test: 2.909, gap_train(%): 0.894, update: False\n"
          ]
        },
        {
          "output_type": "stream",
          "name": "stderr",
          "text": [
            "\r 50%|█████     | 10/20 [18:30<19:30, 117.05s/it]"
          ]
        },
        {
          "output_type": "stream",
          "name": "stdout",
          "text": [
            "Epoch: 9, epoch time: 1.511min, tot time: 0.012day, L_train: 2.895, L_base: 2.896, L_test: 2.909, gap_train(%): 0.894, update: False\n"
          ]
        },
        {
          "output_type": "stream",
          "name": "stderr",
          "text": [
            "\r 55%|█████▌    | 11/20 [20:15<16:59, 113.33s/it]"
          ]
        },
        {
          "output_type": "stream",
          "name": "stdout",
          "text": [
            "Epoch: 10, epoch time: 1.346min, tot time: 0.014day, L_train: 2.902, L_base: 2.898, L_test: 2.909, gap_train(%): 0.894, update: False\n"
          ]
        },
        {
          "output_type": "stream",
          "name": "stderr",
          "text": [
            "\r 60%|██████    | 12/20 [21:48<14:16, 107.07s/it]"
          ]
        },
        {
          "output_type": "stream",
          "name": "stdout",
          "text": [
            "Epoch: 11, epoch time: 1.143min, tot time: 0.015day, L_train: 2.888, L_base: 2.895, L_test: 2.902, gap_train(%): 0.652, update: True\n"
          ]
        },
        {
          "output_type": "stream",
          "name": "stderr",
          "text": [
            "\r 65%|██████▌   | 13/20 [23:15<11:48, 101.17s/it]"
          ]
        },
        {
          "output_type": "stream",
          "name": "stdout",
          "text": [
            "Epoch: 12, epoch time: 1.087min, tot time: 0.016day, L_train: 2.896, L_base: 2.889, L_test: 2.902, gap_train(%): 0.652, update: False\n"
          ]
        },
        {
          "output_type": "stream",
          "name": "stderr",
          "text": [
            "\r 70%|███████   | 14/20 [24:42<09:40, 96.82s/it] "
          ]
        },
        {
          "output_type": "stream",
          "name": "stdout",
          "text": [
            "Epoch: 13, epoch time: 1.075min, tot time: 0.017day, L_train: 2.893, L_base: 2.889, L_test: 2.902, gap_train(%): 0.652, update: False\n"
          ]
        },
        {
          "output_type": "stream",
          "name": "stderr",
          "text": [
            "\r 75%|███████▌  | 15/20 [26:11<07:52, 94.59s/it]"
          ]
        },
        {
          "output_type": "stream",
          "name": "stdout",
          "text": [
            "Epoch: 14, epoch time: 1.097min, tot time: 0.018day, L_train: 2.891, L_base: 2.892, L_test: 2.902, gap_train(%): 0.652, update: False\n"
          ]
        },
        {
          "output_type": "stream",
          "name": "stderr",
          "text": [
            "\r 80%|████████  | 16/20 [27:41<06:12, 93.15s/it]"
          ]
        },
        {
          "output_type": "stream",
          "name": "stdout",
          "text": [
            "Epoch: 15, epoch time: 1.120min, tot time: 0.019day, L_train: 2.884, L_base: 2.888, L_test: 2.901, gap_train(%): 0.625, update: True\n"
          ]
        },
        {
          "output_type": "stream",
          "name": "stderr",
          "text": [
            "\r 85%|████████▌ | 17/20 [29:09<04:34, 91.49s/it]"
          ]
        },
        {
          "output_type": "stream",
          "name": "stdout",
          "text": [
            "Epoch: 16, epoch time: 1.084min, tot time: 0.020day, L_train: 2.882, L_base: 2.883, L_test: 2.899, gap_train(%): 0.568, update: True\n"
          ]
        },
        {
          "output_type": "stream",
          "name": "stderr",
          "text": [
            "\r 90%|█████████ | 18/20 [30:39<03:02, 91.14s/it]"
          ]
        },
        {
          "output_type": "stream",
          "name": "stdout",
          "text": [
            "Epoch: 17, epoch time: 1.119min, tot time: 0.021day, L_train: 2.883, L_base: 2.884, L_test: 2.899, gap_train(%): 0.568, update: False\n"
          ]
        },
        {
          "output_type": "stream",
          "name": "stderr",
          "text": [
            "\r 95%|█████████▌| 19/20 [32:08<01:30, 90.38s/it]"
          ]
        },
        {
          "output_type": "stream",
          "name": "stdout",
          "text": [
            "Epoch: 18, epoch time: 1.113min, tot time: 0.022day, L_train: 2.881, L_base: 2.879, L_test: 2.899, gap_train(%): 0.568, update: False\n"
          ]
        },
        {
          "output_type": "stream",
          "name": "stderr",
          "text": [
            "100%|██████████| 20/20 [33:39<00:00, 100.96s/it]"
          ]
        },
        {
          "output_type": "stream",
          "name": "stdout",
          "text": [
            "Epoch: 19, epoch time: 1.130min, tot time: 0.023day, L_train: 2.883, L_base: 2.882, L_test: 2.899, gap_train(%): 0.568, update: False\n"
          ]
        },
        {
          "output_type": "stream",
          "name": "stderr",
          "text": [
            "\n"
          ]
        }
      ],
      "source": [
        "###### ==================\n",
        "# Main training loop\n",
        "# ==================\n",
        "from joblib import Parallel, delayed\n",
        "\n",
        "torch.manual_seed(42)\n",
        "start_training_time = time.time()\n",
        "\n",
        "# list for saving the data\n",
        "loss_train = 0\n",
        "loss_arr = []\n",
        "length_train = []\n",
        "length_baseline = []\n",
        "length_test = []\n",
        "gap_history = []\n",
        "\n",
        "for epoch in tqdm(range(0, args.nb_epochs)):\n",
        "\n",
        "    # re-start training with saved checkpoint\n",
        "    # epoch += epoch_ckpt\n",
        "\n",
        "    # -------------------------\n",
        "    # Train model for one epoch\n",
        "    # -------------------------\n",
        "    start = time.time()\n",
        "    model_train.train()\n",
        "\n",
        "    for step in range(1, args.nb_batch_per_epoch + 1):\n",
        "\n",
        "        # generate a batch of random TSP instances\n",
        "        x = torch.rand(args.batch_size, args.nb_nodes, args.dim_nodes) # size(x)=(batch_size, nb_nodes, dim_input_nodes)\n",
        "\n",
        "        # generate topological features\n",
        "        # new_f = ...\n",
        "        # data = x # np.concat(x, new_f)\n",
        "        data = torch.tensor(np.array(Parallel(n_jobs=-1)(delayed(calculate_homology)(i) for i in x)), dtype=torch.float32)\n",
        "\n",
        "        # compute tours for model\n",
        "        tour_train, sumLogProbOfActions = model_train(data.to(device), deterministic=False) # size(tour_train)=(batch_size, nb_nodes), size(sumLogProbOfActions)=(batch_size)\n",
        "\n",
        "        # compute tours for baseline\n",
        "        with torch.no_grad():\n",
        "            tour_baseline, _ = model_baseline(data.to(device), deterministic=True)\n",
        "\n",
        "        # get the lengths of the tours\n",
        "        x = x.to(device)\n",
        "        L_train = compute_tour_length(x, tour_train) # size(L_train)=(batch_size)\n",
        "        L_baseline = compute_tour_length(x, tour_baseline) # size(L_baseline)=(batch_size)\n",
        "\n",
        "        # backprop\n",
        "        loss = torch.mean((L_train - L_baseline) * sumLogProbOfActions )\n",
        "        optimizer.zero_grad()\n",
        "        loss.backward()\n",
        "        optimizer.step()\n",
        "\n",
        "        loss_train += loss.detach().item()\n",
        "\n",
        "    loss_train /= args.nb_batch_per_epoch\n",
        "    loss_arr.append(loss_train)\n",
        "\n",
        "\n",
        "    time_one_epoch = time.time()-start\n",
        "    time_tot = time.time()-start_training_time + tot_time_ckpt\n",
        "\n",
        "\n",
        "    # -----------------\n",
        "    # Evaluate train model and baseline on 10k random TSP instances\n",
        "    # -----------------\n",
        "    model_train.eval()\n",
        "    mean_tour_length_train = 0\n",
        "    mean_tour_length_baseline = 0\n",
        "\n",
        "    for step in range(0, args.nb_batch_eval):\n",
        "        # generate a batch of random tsp instances\n",
        "        x = torch.rand(args.batch_size, args.nb_nodes, args.dim_nodes)\n",
        "\n",
        "        # generate topological features\n",
        "        # new_f = ...\n",
        "        # data = x # np.concat(x, new_f)\n",
        "        data = torch.tensor(np.array(Parallel(n_jobs=-1)(delayed(calculate_homology)(i) for i in x)), dtype=torch.float32)\n",
        "\n",
        "        # compute tour for model and baseline\n",
        "        with torch.no_grad():\n",
        "            tour_train, _ = model_train(data.to(device), deterministic=True)\n",
        "            tour_baseline, _ = model_baseline(data.to(device), deterministic=True)\n",
        "\n",
        "        # get the lengths of the tours\n",
        "        L_train = compute_tour_length(x.to(device), tour_train)\n",
        "        L_baseline = compute_tour_length(x.to(device), tour_baseline)\n",
        "\n",
        "        # L_tr and L_bl are tensors of shape (batch_size,). Compute the mean tour length\n",
        "        mean_tour_length_train += L_train.mean().item()\n",
        "        mean_tour_length_baseline += L_baseline.mean().item()\n",
        "\n",
        "    mean_tour_length_train =  mean_tour_length_train / args.nb_batch_eval\n",
        "    mean_tour_length_baseline =  mean_tour_length_baseline / args.nb_batch_eval\n",
        "    length_train.append(mean_tour_length_train) # save\n",
        "    length_baseline.append(mean_tour_length_baseline) # save\n",
        "\n",
        "    # evaluate train model and baseline and update if train model is better\n",
        "    update_baseline = mean_tour_length_train + args.tol < mean_tour_length_baseline\n",
        "    if update_baseline:\n",
        "        model_baseline.load_state_dict(model_train.state_dict())\n",
        "\n",
        "    # For new baseline compute TSPs for small test set\n",
        "    with torch.no_grad():\n",
        "        data = torch.tensor(np.array(Parallel(n_jobs=-1)(delayed(calculate_homology)(i) for i in x_test_tsp)), dtype=torch.float32)\n",
        "        tour_baseline, _ = model_baseline(data.to(device), deterministic=True)\n",
        "    mean_tour_length_test = compute_tour_length(x_test_tsp, tour_baseline.to('cpu')).mean().item()\n",
        "    length_test.append(mean_tour_length_test) # save\n",
        "    # For checkpoint\n",
        "    plot_performance_train.append([(epoch+1), mean_tour_length_train])\n",
        "    plot_performance_baseline.append([(epoch+1), mean_tour_length_baseline])\n",
        "\n",
        "    # Compute optimality gap\n",
        "    gap_train = mean_tour_length_test / x_test_len - 1.0\n",
        "    gap_history.append(gap_train) # save\n",
        "\n",
        "    # Print and save in txt file\n",
        "    mystring_min = 'Epoch: {:d}, epoch time: {:.3f}min, tot time: {:.3f}day, L_train: {:.3f}, L_base: {:.3f}, L_test: {:.3f}, gap_train(%): {:.3f}, update: {}'.format(\n",
        "        epoch, time_one_epoch/60, time_tot/86400, mean_tour_length_train, mean_tour_length_baseline, mean_tour_length_test, 100*gap_train, update_baseline)\n",
        "    print(mystring_min) # Comment if plot display\n",
        "\n",
        "    # all_strings.append(mystring_min) # Uncomment if plot display\n",
        "    # for string in all_strings:\n",
        "    #     print(string)\n",
        "\n",
        "    # Saving checkpoint\n",
        "    checkpoint_dir = os.path.join(\"checkpoint\")\n",
        "    if not os.path.exists(checkpoint_dir):\n",
        "        os.makedirs(checkpoint_dir)\n",
        "    torch.save({\n",
        "        'epoch': epoch,\n",
        "        'time': time_one_epoch,\n",
        "        'tot_time': time_tot,\n",
        "        'loss': loss.item(),\n",
        "        'TSP_length': [torch.mean(L_train).item(), torch.mean(L_baseline).item(), mean_tour_length_test],\n",
        "        'plot_performance_train': plot_performance_train,\n",
        "        'plot_performance_baseline': plot_performance_baseline,\n",
        "        'mean_tour_length_test': mean_tour_length_test,\n",
        "        'model_baseline': model_baseline.state_dict(),\n",
        "        'model_train': model_train.state_dict(),\n",
        "        'optimizer': optimizer.state_dict(),\n",
        "        }, '{}.pkl'.format(checkpoint_dir + \"/checkpoint_\" + time_stamp + \"-n{}\".format(args.nb_nodes) + \"-gpu{}\".format(args.gpu_id)))\n",
        "\n"
      ]
    },
    {
      "cell_type": "code",
      "execution_count": 10,
      "metadata": {
        "id": "fQUqMUrRg7yC"
      },
      "outputs": [],
      "source": [
        "torch.save({\n",
        "    'loss_train': loss_arr,\n",
        "    'path_length_for_baseline': length_baseline,\n",
        "    'path_length_on_test': length_test,\n",
        "    'path_length_for_train': length_train,\n",
        "    'gap_history': gap_history\n",
        "    }, '{}.pkl'.format(checkpoint_dir + \"/checkpoint_\" + time_stamp + \"-n{}\".format(args.nb_nodes) + \"graph_data\"))"
      ]
    },
    {
      "cell_type": "markdown",
      "metadata": {
        "id": "cFNg1bEwg7yC"
      },
      "source": [
        "### Plot losses"
      ]
    },
    {
      "cell_type": "code",
      "source": [
        "# # file_path = \"/content/TDA-for-Travelling-Salesman/checkpoint/checkpoint_24-03-20--17-17-56-n10graph_data.pkl\"\n",
        "# checkpoint = torch.load(file_path)\n",
        "\n",
        "# # loss_arr = checkpoint['loss_train']\n",
        "# # length_baseline = checkpoint['path_length_for_baseline']\n",
        "# # length_test = checkpoint['path_length_on_test']\n",
        "# # length_train = checkpoint['path_length_for_train']\n",
        "# gap_history = checkpoint['gap_history']\n",
        "\n",
        "# plt.plot([gap.numpy() for gap in gap_history], label=f'{args.dim_model_input} topological features', color='b')\n",
        "# # plt.yscale('log')\n",
        "# # plt.ylim([1e-3, 0.03])\n",
        "# plt.title('Optimality Gap for the TSP10 model VS epochs')\n",
        "# plt.grid(True)\n",
        "# plt.legend()\n",
        "# # plt.savefig('gap_10.jpg')\n",
        "# plt.show()"
      ],
      "metadata": {
        "id": "5SxPMvaBtqct"
      },
      "execution_count": null,
      "outputs": []
    },
    {
      "cell_type": "markdown",
      "metadata": {
        "id": "txokvM3SAtWG"
      },
      "source": [
        "## Final check on test data"
      ]
    },
    {
      "cell_type": "code",
      "execution_count": 14,
      "metadata": {
        "colab": {
          "base_uri": "https://localhost:8080/"
        },
        "id": "iB8nLwpUAtWG",
        "outputId": "c3975968-ceac-4051-a1ef-d0ceff40d0eb"
      },
      "outputs": [
        {
          "output_type": "stream",
          "name": "stdout",
          "text": [
            "tensor(2.8993)\n",
            "tensor(2.8830)\n"
          ]
        }
      ],
      "source": [
        "data = x_test_tsp\n",
        "\n",
        "with torch.no_grad():\n",
        "    data = torch.tensor(Parallel(n_jobs=-1)(delayed(calculate_homology)(i) for i in x_test_tsp), dtype=torch.float32)\n",
        "    tour_baseline, _ = model_baseline(data.to(device), deterministic=True)\n",
        "    Length_with_NN_mean = compute_tour_length(x_test_tsp, tour_baseline.to('cpu')).mean()\n",
        "    Length_with_concorde_mean = x_test_len\n",
        "print(Length_with_NN_mean)\n",
        "print(Length_with_concorde_mean)"
      ]
    },
    {
      "cell_type": "markdown",
      "metadata": {
        "id": "TKUlRitzAtWG"
      },
      "source": [
        "# Visualisation\n",
        "Graphs should be fixed"
      ]
    },
    {
      "cell_type": "code",
      "execution_count": 17,
      "metadata": {
        "colab": {
          "base_uri": "https://localhost:8080/",
          "height": 507
        },
        "id": "ICFuJPpUAtWH",
        "outputId": "6991a8a8-3232-401f-bcc8-86a52deca7c8"
      },
      "outputs": [
        {
          "output_type": "display_data",
          "data": {
            "text/plain": [
              "<Figure size 1000x500 with 8 Axes>"
            ],
            "image/png": "[encoded data removed]"
          },
          "metadata": {}
        }
      ],
      "source": [
        "import matplotlib.pyplot as plt\n",
        "\n",
        "Length_with_NN = compute_tour_length(x_test_tsp, tour_baseline.to('cpu'))\n",
        "\n",
        "# Create subplots\n",
        "fig, axs = plt.subplots(2, 4, figsize=(10, 5))\n",
        "\n",
        "for i in range(2):\n",
        "    for j in range(2):\n",
        "        idx = i*2 + j + 1\n",
        "        points = np.array(x_test_tsp[idx].to('cpu'))\n",
        "\n",
        "        model_tour = np.array(tour_baseline[idx].to('cpu'))\n",
        "\n",
        "        # Compute Concorde tour\n",
        "        concorde_tour = TSPSolver.from_data(points[:, 0], points[:, 1], norm='GEO').solve(verbose=False).tour\n",
        "        Length_with_concorde = compute_tour_length(torch.tensor(points[None, :]), torch.tensor(concorde_tour[None, :]))\n",
        "\n",
        "        sequence_points_concorde = points[concorde_tour]\n",
        "        sequence_points_model = points[model_tour]\n",
        "\n",
        "        # Connect last point with the first one\n",
        "        sequence_points_concorde = np.vstack([sequence_points_concorde, sequence_points_concorde[0]])\n",
        "        sequence_points_model = np.vstack([sequence_points_model, sequence_points_model[0]])\n",
        "\n",
        "        # Plot Concorde tour\n",
        "        axs[i, 2*j].plot(sequence_points_concorde[:, 0], sequence_points_concorde[:, 1], marker='o', linestyle='-', color='orange')\n",
        "        axs[i, 2*j].set_title(f'Concorde (Length={Length_with_concorde.item():.2f})')\n",
        "        axs[i, 2*j].tick_params(axis='both', which='both', bottom=False, top=False, left=False, right=False, labelbottom=False, labelleft=False)\n",
        "\n",
        "        # Plot Model tour\n",
        "        axs[i, 2*j + 1].plot(sequence_points_model[:, 0], sequence_points_model[:, 1], marker='o', linestyle='-')\n",
        "        axs[i, 2*j + 1].set_title(f'Model (Length={Length_with_NN[idx]:.2f})')\n",
        "        axs[i, 2*j + 1].tick_params(axis='both', which='both', bottom=False, top=False, left=False, right=False, labelbottom=False, labelleft=False)\n",
        "\n",
        "# Adjust layout\n",
        "plt.tight_layout()\n",
        "plt.savefig('foo.png')\n",
        "\n",
        "# Show the plot\n",
        "plt.show()\n"
      ]
    },
    {
      "cell_type": "code",
      "execution_count": null,
      "metadata": {
        "id": "NRpezLJF0svv"
      },
      "outputs": [],
      "source": []
    }
  ],
  "metadata": {
    "accelerator": "GPU",
    "colab": {
      "gpuType": "T4",
      "provenance": [],
      "include_colab_link": true
    },
    "kernelspec": {
      "display_name": "Python 3 (ipykernel)",
      "language": "python",
      "name": "python3"
    },
    "language_info": {
      "codemirror_mode": {
        "name": "ipython",
        "version": 3
      },
      "file_extension": ".py",
      "mimetype": "text/x-python",
      "name": "python",
      "nbconvert_exporter": "python",
      "pygments_lexer": "ipython3",
      "version": "3.8.18"
    }
  },
  "nbformat": 4,
  "nbformat_minor": 0
}